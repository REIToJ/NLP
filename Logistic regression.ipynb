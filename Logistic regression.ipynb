{
 "cells": [
  {
   "cell_type": "code",
   "execution_count": 1,
   "id": "9836f5d4",
   "metadata": {},
   "outputs": [],
   "source": [
    "import numpy as np\n",
    "import matplotlib.pyplot as plt\n",
    "\n",
    "from sklearn.datasets import load_digits\n",
    "from sklearn.model_selection import train_test_split\n",
    "\n",
    "np.random.seed(13)"
   ]
  },
  {
   "cell_type": "code",
   "execution_count": 2,
   "id": "0e7ac49a",
   "metadata": {},
   "outputs": [],
   "source": [
    "data = load_digits()"
   ]
  },
  {
   "cell_type": "code",
   "execution_count": 3,
   "id": "4a9ed1c5",
   "metadata": {},
   "outputs": [],
   "source": [
    "X = data['data']\n",
    "y = (data['target'] >= 5).astype(np.int32)"
   ]
  },
  {
   "cell_type": "code",
   "execution_count": 4,
   "id": "64d94668",
   "metadata": {},
   "outputs": [
    {
     "data": {
      "text/plain": [
       "<Figure size 432x288 with 0 Axes>"
      ]
     },
     "metadata": {},
     "output_type": "display_data"
    },
    {
     "data": {
      "image/png": "[encoded data removed]",
      "text/plain": [
       "<Figure size 288x288 with 1 Axes>"
      ]
     },
     "metadata": {
      "needs_background": "light"
     },
     "output_type": "display_data"
    },
    {
     "name": "stdout",
     "output_type": "stream",
     "text": [
      "6\n"
     ]
    }
   ],
   "source": [
    "plt.gray()\n",
    "index = np.random.randint(0, len(X) - 1)\n",
    "plt.matshow(X[index].reshape(8, 8))\n",
    "plt.show()\n",
    "print(data.target[index])\n"
   ]
  },
  {
   "cell_type": "code",
   "execution_count": 5,
   "id": "e1508d6e",
   "metadata": {},
   "outputs": [],
   "source": [
    "\n",
    "X_train, X_test, y_train, y_test = train_test_split(X,\n",
    "                                                    y,\n",
    "                                                    train_size=0.77,\n",
    "                                                    shuffle=True)"
   ]
  },
  {
   "cell_type": "code",
   "execution_count": 6,
   "id": "3992e963",
   "metadata": {},
   "outputs": [
    {
     "data": {
      "text/plain": [
       "((1383, 64), (414, 64))"
      ]
     },
     "execution_count": 6,
     "metadata": {},
     "output_type": "execute_result"
    }
   ],
   "source": [
    "\n",
    "X_train.shape, X_test.shape"
   ]
  },
  {
   "cell_type": "code",
   "execution_count": 7,
   "id": "53a69d7e",
   "metadata": {},
   "outputs": [],
   "source": [
    "def log_loss(y_true, y_pred):\n",
    "    return -np.sum(y_true * np.log(y_pred) + (1 - y_true) * np.log(1 - y_pred), axis=0) / len(y_true)\n",
    "\n",
    "def sigmoid(x):\n",
    "    return 1 / (1 + np.exp(-x))\n"
   ]
  },
  {
   "cell_type": "code",
   "execution_count": 8,
   "id": "89ec7d16",
   "metadata": {},
   "outputs": [
    {
     "name": "stdout",
     "output_type": "stream",
     "text": [
      "Число объектов в обучающей выборке: 1383\n",
      "Размерность объекта: 64\n"
     ]
    }
   ],
   "source": [
    "m, n = X_train.shape\n",
    "print(f'Число объектов в обучающей выборке: {m}\\nРазмерность объекта: {n}')"
   ]
  },
  {
   "cell_type": "code",
   "execution_count": 9,
   "id": "5ee4ac8d",
   "metadata": {},
   "outputs": [],
   "source": [
    "class LogisticRegression:\n",
    "    \n",
    "    def __init__(self):\n",
    "        self.w = np.random.randn(n, 1) * 0.001\n",
    "        self.b = np.random.randn() * 0.001\n",
    "        self.report_every = 40\n",
    "\n",
    "    def train(self, X, y, learning_rate=0.005, epochs=40):\n",
    "        self.losses_train = []\n",
    "        self.losses_test = []\n",
    "        \n",
    "        for epoch in range(epochs):            \n",
    "            dw = np.zeros((n, 1))\n",
    "            db = 0\n",
    "            \n",
    "            for i in range(len(X)):\n",
    "                # forward propagation\n",
    "                z = X[i].reshape(1, n).dot(self.w) + self.b\n",
    "                a = sigmoid(z)[0][0]\n",
    "                \n",
    "                # gradient calculation\n",
    "                dw += (a - y[i]) * X[i].reshape(n, 1)\n",
    "                db += (a - y[i])\n",
    "                \n",
    "            dw /= len(X)\n",
    "            db /= len(X)\n",
    "            \n",
    "            # gradient step\n",
    "            self.w = self.w - learning_rate * dw\n",
    "            self.b = self.b - learning_rate * db\n",
    "            \n",
    "            # save loss for plotting\n",
    "            if epoch % self.report_every == 0:\n",
    "                self.losses_train.append(log_loss(y, self.predict(X)))\n",
    "                self.losses_test.append(log_loss(y_test, self.predict(X_test)))\n",
    "        \n",
    "\n",
    "    def train_vec(self, X, y, learning_rate=0.005, epochs=40):\n",
    "        self.losses_train = []\n",
    "        self.losses_test = []\n",
    "        \n",
    "        for epoch in range(epochs):            \n",
    "            Z = X.reshape(m, n).dot(self.w) + self.b\n",
    "            A = sigmoid(Z)\n",
    "            \n",
    "            dw = np.sum(X.reshape(m, n) * (A.reshape(m, 1) - y.reshape(m, 1)), axis=0) / len(X)\n",
    "            db = np.sum((A.reshape(m, 1) - y.reshape(m, 1)), axis=0) / len(X)\n",
    "            \n",
    "            # gradient step\n",
    "            self.w = self.w - learning_rate * dw.reshape(n, 1)\n",
    "            self.b = self.b - learning_rate * db\n",
    "            \n",
    "            # save loss for plotting\n",
    "            if epoch % self.report_every == 0:\n",
    "                self.losses_train.append(log_loss(y, self.predict(X)))\n",
    "                self.losses_test.append(log_loss(y_test, self.predict(X_test)))\n",
    "    \n",
    "\n",
    "    def predict(self, X):        \n",
    "        return np.array([sigmoid(x.reshape(1, n).dot(self.w) + self.b)[0][0] \n",
    "                         for x in X])\n"
   ]
  },
  {
   "cell_type": "code",
   "execution_count": 10,
   "id": "702297df",
   "metadata": {},
   "outputs": [
    {
     "name": "stdout",
     "output_type": "stream",
     "text": [
      "Wall time: 11 s\n"
     ]
    }
   ],
   "source": [
    "%%time\n",
    "logreg = LogisticRegression()\n",
    "logreg.train(X_train, y_train, epochs=500)"
   ]
  },
  {
   "cell_type": "code",
   "execution_count": 11,
   "id": "7aa211e9",
   "metadata": {},
   "outputs": [
    {
     "data": {
      "image/png": "[encoded data removed]",
      "text/plain": [
       "<Figure size 432x288 with 1 Axes>"
      ]
     },
     "metadata": {
      "needs_background": "light"
     },
     "output_type": "display_data"
    }
   ],
   "source": [
    "domain = np.arange(0, len(logreg.losses_train)) * logreg.report_every\n",
    "plt.plot(domain, logreg.losses_train, label='Train')\n",
    "plt.plot(domain, logreg.losses_test, label='Test')\n",
    "plt.xlabel('Epoch number')\n",
    "plt.ylabel('LogLoss')\n",
    "plt.legend();\n"
   ]
  },
  {
   "cell_type": "code",
   "execution_count": 12,
   "id": "6325902a",
   "metadata": {},
   "outputs": [
    {
     "name": "stdout",
     "output_type": "stream",
     "text": [
      "Точность на тестовой выборке: 89.13%\n"
     ]
    }
   ],
   "source": [
    "test_prediction = np.array(logreg.predict(X_test))\n",
    "test_accuracy = np.sum((test_prediction > 0.5) == y_test) / len(test_prediction)\n",
    "print(f'Точность на тестовой выборке: {round(test_accuracy * 100, 2)}%')\n"
   ]
  },
  {
   "cell_type": "code",
   "execution_count": 13,
   "id": "159573b5",
   "metadata": {},
   "outputs": [
    {
     "name": "stdout",
     "output_type": "stream",
     "text": [
      "Точность на тестовой выборке: 90.96%\n"
     ]
    }
   ],
   "source": [
    "train_prediction = np.array(logreg.predict(X_train))\n",
    "train_accuracy = np.sum((train_prediction > 0.5) == y_train) / len(train_prediction)\n",
    "print(f'Точность на тестовой выборке: {round(train_accuracy * 100, 2)}%')\n"
   ]
  },
  {
   "cell_type": "code",
   "execution_count": null,
   "id": "4aaaa3fb",
   "metadata": {},
   "outputs": [],
   "source": []
  }
 ],
 "metadata": {
  "kernelspec": {
   "display_name": "Python 3",
   "language": "python",
   "name": "python3"
  },
  "language_info": {
   "codemirror_mode": {
    "name": "ipython",
    "version": 3
   },
   "file_extension": ".py",
   "mimetype": "text/x-python",
   "name": "python",
   "nbconvert_exporter": "python",
   "pygments_lexer": "ipython3",
   "version": "3.8.8"
  }
 },
 "nbformat": 4,
 "nbformat_minor": 5
}
